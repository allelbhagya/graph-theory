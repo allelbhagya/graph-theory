{
 "cells": [
  {
   "cell_type": "code",
   "execution_count": 278,
   "metadata": {},
   "outputs": [],
   "source": [
    "import numpy as np"
   ]
  },
  {
   "cell_type": "code",
   "execution_count": 279,
   "metadata": {},
   "outputs": [],
   "source": [
    "matrix = np.array([[0,1,1,0],\n",
    "                   [1,0,0,1],\n",
    "                   [1,0,0,1],\n",
    "                   [0,1,1,0]])"
   ]
  },
  {
   "cell_type": "code",
   "execution_count": 280,
   "metadata": {},
   "outputs": [],
   "source": [
    "n = len(matrix[0])\n",
    "final = matrix"
   ]
  },
  {
   "cell_type": "code",
   "execution_count": 281,
   "metadata": {},
   "outputs": [
    {
     "name": "stdout",
     "output_type": "stream",
     "text": [
      "matrix of order: 2\n",
      "[[2 0 0 2]\n",
      " [0 2 2 0]\n",
      " [0 2 2 0]\n",
      " [2 0 0 2]]\n",
      "matrix of order: 3\n",
      "[[8 0 0 8]\n",
      " [0 8 8 0]\n",
      " [0 8 8 0]\n",
      " [8 0 0 8]]\n"
     ]
    }
   ],
   "source": [
    "for i in range(1,n-1):\n",
    "    matrix = np.dot(matrix,matrix)\n",
    "    order = i+1\n",
    "    print(f\"matrix of order: {order}\")\n",
    "    print(matrix)\n",
    "    final+=matrix"
   ]
  },
  {
   "cell_type": "code",
   "execution_count": 282,
   "metadata": {},
   "outputs": [
    {
     "name": "stdout",
     "output_type": "stream",
     "text": [
      "[[10  1  1 10]\n",
      " [ 1 10 10  1]\n",
      " [ 1 10 10  1]\n",
      " [10  1  1 10]]\n"
     ]
    }
   ],
   "source": [
    "print(final)"
   ]
  },
  {
   "cell_type": "code",
   "execution_count": 283,
   "metadata": {},
   "outputs": [
    {
     "name": "stdout",
     "output_type": "stream",
     "text": [
      "False\n"
     ]
    }
   ],
   "source": [
    "print(np.any(final == 0))"
   ]
  },
  {
   "cell_type": "code",
   "execution_count": 284,
   "metadata": {},
   "outputs": [
    {
     "data": {
      "text/plain": [
       "'Connected Graph'"
      ]
     },
     "execution_count": 284,
     "metadata": {},
     "output_type": "execute_result"
    }
   ],
   "source": [
    "import numpy as np\n",
    "\n",
    "def check_connect(matrix):\n",
    "    n = matrix.shape[0]\n",
    "    final = matrix.copy()\n",
    "    \n",
    "    for i in range(1, n-1):\n",
    "        matrix = np.dot(matrix, matrix)\n",
    "        final += matrix\n",
    "\n",
    "    return \"Connected Graph\" if (np.any(final == 0)) else \"Disconnected Graph\"\n",
    "\n",
    "check_connect(matrix)\n"
   ]
  }
 ],
 "metadata": {
  "kernelspec": {
   "display_name": "venv",
   "language": "python",
   "name": "python3"
  },
  "language_info": {
   "codemirror_mode": {
    "name": "ipython",
    "version": 3
   },
   "file_extension": ".py",
   "mimetype": "text/x-python",
   "name": "python",
   "nbconvert_exporter": "python",
   "pygments_lexer": "ipython3",
   "version": "3.13.1"
  }
 },
 "nbformat": 4,
 "nbformat_minor": 2
}
